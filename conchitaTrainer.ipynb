{
 "cells": [
  {
   "cell_type": "code",
   "execution_count": 51,
   "metadata": {},
   "outputs": [
    {
     "output_type": "error",
     "ename": "IndentationError",
     "evalue": "unexpected indent (<ipython-input-51-dcc8fc1e0b36>, line 3)",
     "traceback": [
      "\u001b[1;36m  File \u001b[1;32m\"<ipython-input-51-dcc8fc1e0b36>\"\u001b[1;36m, line \u001b[1;32m3\u001b[0m\n\u001b[1;33m    chatbot = ChatBot (\u001b[0m\n\u001b[1;37m    ^\u001b[0m\n\u001b[1;31mIndentationError\u001b[0m\u001b[1;31m:\u001b[0m unexpected indent\n"
     ]
    }
   ],
   "source": [
    "from chatterbot import ChatBot\n",
    "\n",
    "chatbot = ChatBot (\n",
    "    \"conchita\",\n",
    "\n",
    "        storage_adapter= 'chatterbot.storage.MongoDatabaseAdapter',\n",
    "        database_uri='mongodb://localhost:27017',\n",
    "        database='chatterbot_conchita',\n",
    "\n",
    "        input_adapter=\"chatterbot.input.TerminalAdapter\",\n",
    "\n",
    "        output_adapter=\"chatterbot.output.OutputAdapter\",\n",
    "        output_format=\"text\",\n",
    "\n",
    "        logic_adapters=[\n",
    "            {\n",
    "                \"import_path\": \"chatterbot.logic.BestMatch\",\n",
    "                \"statement_comparison_function\": \"chatterbot.comparisons.levenshtein_distance\",\n",
    "                \"response_selection_method\": \"chatterbot.response_selection.get_most_frequent_response\" \n",
    "            },\n",
    "            {\n",
    "                'import path': 'chatterbot.logic.LowConfidenceAdapter',\n",
    "                'threshold': 0.51,\n",
    "                'default_response': 'Disculpa no entendi bien, ¿Puedes ser más específic@?'\n",
    "            },\n",
    "            {\n",
    "                'import_path': 'chatterbot.logic.SpecificResponseAdapter',\n",
    "                'input_text': 'Quiero saber si quedan cupos',\n",
    "                'output_text': 'Puedes averigualo en la pagina de la Secretaria de Educación: https://  www.educacionbogota.edu.co/portal_institucional/'\n",
    "            },\n",
    "    ],\n",
    "\n",
    "        preprocessors=[\n",
    "            'chatterbot.preprocessors.clean_whitespace'\n",
    "    ],\n",
    "\n",
    "        read_only=True,\n",
    ")\n",
    "\n",
    "DEFAULT_SESSION_ID = chatbot.DEFAULT_SESSION_ID"
   ]
  },
  {
   "cell_type": "code",
   "execution_count": null,
   "metadata": {},
   "outputs": [],
   "source": [
    "from chatterbot.trainers import chatterbotCorpusTrainer\n",
    "\n",
    "chatbot.set_trainer(chatterbotCorpusTrainer)\n",
    "chatbot.train(\"C:\\Data\\chatbot\\Proyecto\\conchita_ES.yml\")"
   ]
  },
  {
   "cell_type": "code",
   "execution_count": null,
   "metadata": {},
   "outputs": [],
   "source": [
    "while True:\n",
    "    input_statement = chatbot.input_process_input_statement()\n",
    "    statement, response = chatbot.generate_response(input_statement, DEFAULT_SESSION_ID)\n",
    "    print(\"\\n%s\\n\\n\" % response)"
   ]
  },
  {
   "cell_type": "code",
   "execution_count": null,
   "metadata": {},
   "outputs": [],
   "source": []
  },
  {
   "cell_type": "code",
   "execution_count": null,
   "metadata": {},
   "outputs": [],
   "source": []
  }
 ],
 "metadata": {
  "language_info": {
   "codemirror_mode": {
    "name": "ipython",
    "version": 3
   },
   "file_extension": ".py",
   "mimetype": "text/x-python",
   "name": "python",
   "nbconvert_exporter": "python",
   "pygments_lexer": "ipython3",
   "version": "3.8.2-final"
  },
  "orig_nbformat": 2,
  "kernelspec": {
   "name": "python38264bit42a4bed934b2489980c166cdddbc8830",
   "display_name": "Python 3.8.2 64-bit"
  }
 },
 "nbformat": 4,
 "nbformat_minor": 2
}