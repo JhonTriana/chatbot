{
 "cells": [
  {
   "cell_type": "code",
   "execution_count": null,
   "metadata": {},
   "outputs": [],
   "source": [
    "from chatterbot.chatterbot import ChatBot\n",
    "\n",
    "\n",
    "chatbot = ChatBot(\n",
    "    \"Conchita\",\n",
    "    \n",
    "\n",
    "    storage_adapter='chatterbot.storage.MongoDatabaseAdapter',\n",
    "    database_uri='mongodb://localhost:27017/',\n",
    "    database= 'chatterbot_conchita',    \n",
    "\n",
    "    imput_adapter= \"chatterbot.input.TerminalAdapter\",\n",
    "\n",
    "    output_adapter= \"chatterbot.output.OutputAdapter\",\n",
    "    output_format= \"text\",\n",
    "\n",
    "    logic_adapters=[\n",
    "        {\n",
    "            \"import_path\": \"chatterbot.logic.BestMatch\",\n",
    "            \"statement_comparison_function\": \"chatterbot.comparisons.levenshtein_distance\",\n",
    "            \"response_selection_method\": \"chatterbot.response_selection.get_most_frequent_response\"\n",
    "        },\n",
    "        {\n",
    "            'import_path': 'chatterbot.logic.LowConfidenceAdapter',\n",
    "            'threshold': 0.51,\n",
    "            'default_response' : 'Disculpa, no entendí bien. ¿Puedes ser más específico'\n",
    "        },\n",
    "        {\n",
    "            'import_path': 'chatterbot.logic.SpecificResponseAdapter',\n",
    "            'input_text' : 'Quiero averiguar si hay cupos',\n",
    "            'output_text' : 'Puedes averiguar en: https://www.educacionbogota.edu.co/'\n",
    "        },\n",
    "\n",
    "    ],\n",
    "\n",
    "    preprocessors=[\n",
    "        'chatterbot.preprocessors.clean_whitespace'\n",
    "    ],\n",
    "\n",
    "    read_only = False,\n",
    "\n",
    ")\n",
    "\n",
    "DEFAULT_SESSION_ID = chatbot.default_session.id"
   ]
  },
  {
   "cell_type": "code",
   "execution_count": null,
   "metadata": {},
   "outputs": [],
   "source": [
    "from chatterbot.trainers import ChatterBotCorpusTrainer\n",
    "\n",
    "chatbot.__set_trainer(ChatterBotCorpusTrainer)\n",
    "chatbot.train(\"./conchita_ES.yml\")"
   ]
  },
  {
   "cell_type": "code",
   "execution_count": 6,
   "metadata": {},
   "outputs": [
    {
     "output_type": "error",
     "ename": "NameError",
     "evalue": "name 'chatbot' is not defined",
     "traceback": [
      "\u001b[1;31m---------------------------------------------------------------------------\u001b[0m",
      "\u001b[1;31mNameError\u001b[0m                                 Traceback (most recent call last)",
      "\u001b[1;32m<ipython-input-6-f1d3fb1bf07c>\u001b[0m in \u001b[0;36m<module>\u001b[1;34m\u001b[0m\n\u001b[0;32m      1\u001b[0m \u001b[1;32mwhile\u001b[0m \u001b[1;32mTrue\u001b[0m\u001b[1;33m:\u001b[0m\u001b[1;33m\u001b[0m\u001b[1;33m\u001b[0m\u001b[0m\n\u001b[1;32m----> 2\u001b[1;33m     \u001b[0minput_statement\u001b[0m \u001b[1;33m=\u001b[0m \u001b[0mchatbot\u001b[0m\u001b[1;33m.\u001b[0m\u001b[0minput\u001b[0m\u001b[1;33m.\u001b[0m\u001b[0mprocess_input_statement\u001b[0m\u001b[1;33m(\u001b[0m\u001b[1;33m)\u001b[0m\u001b[1;33m\u001b[0m\u001b[1;33m\u001b[0m\u001b[0m\n\u001b[0m\u001b[0;32m      3\u001b[0m     \u001b[0mstatement\u001b[0m\u001b[1;33m,\u001b[0m \u001b[0mresponse\u001b[0m \u001b[1;33m=\u001b[0m \u001b[0mchatbot\u001b[0m\u001b[1;33m.\u001b[0m\u001b[0mgenerate_response\u001b[0m\u001b[1;33m(\u001b[0m\u001b[0minput_statement\u001b[0m\u001b[1;33m,\u001b[0m \u001b[0mDEFAULT_SESSION_ID\u001b[0m\u001b[1;33m)\u001b[0m\u001b[1;33m\u001b[0m\u001b[1;33m\u001b[0m\u001b[0m\n\u001b[0;32m      4\u001b[0m     \u001b[0mprint\u001b[0m\u001b[1;33m(\u001b[0m\u001b[1;34m\"\\n%s\\n\\n\"\u001b[0m \u001b[1;33m%\u001b[0m \u001b[0mresponse\u001b[0m\u001b[1;33m)\u001b[0m\u001b[1;33m\u001b[0m\u001b[1;33m\u001b[0m\u001b[0m\n",
      "\u001b[1;31mNameError\u001b[0m: name 'chatbot' is not defined"
     ]
    }
   ],
   "source": [
    "while True:\n",
    "    input_statement = chatbot.input.process_input_statement()\n",
    "    statement, response = chatbot.generate_response(input_statement, DEFAULT_SESSION_ID)\n",
    "    print(\"\\n%s\\n\\n\" % response)"
   ]
  },
  {
   "cell_type": "code",
   "execution_count": null,
   "metadata": {},
   "outputs": [],
   "source": []
  }
 ],
 "metadata": {
  "language_info": {
   "codemirror_mode": {
    "name": "ipython",
    "version": 3
   },
   "file_extension": ".py",
   "mimetype": "text/x-python",
   "name": "python",
   "nbconvert_exporter": "python",
   "pygments_lexer": "ipython3",
   "version": "3.8.2-final"
  },
  "orig_nbformat": 2,
  "kernelspec": {
   "name": "python38264bit42a4bed934b2489980c166cdddbc8830",
   "display_name": "Python 3.8.2 64-bit"
  }
 },
 "nbformat": 4,
 "nbformat_minor": 2
}